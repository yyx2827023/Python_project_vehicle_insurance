{
 "cells": [
  {
   "cell_type": "markdown",
   "id": "b2a69fbe",
   "metadata": {},
   "source": [
    "# Author: \n",
    "   ## Zhanxu Liu\n",
    "   ## Yixin Yang\n"
   ]
  },
  {
   "cell_type": "markdown",
   "id": "bf8d9ea8",
   "metadata": {},
   "source": [
    "# Data exploration"
   ]
  },
  {
   "cell_type": "code",
   "execution_count": 123,
   "id": "fb2a1939",
   "metadata": {},
   "outputs": [],
   "source": [
    "import pandas as pd\n",
    "import sklearn"
   ]
  },
  {
   "cell_type": "code",
   "execution_count": 3,
   "id": "67cd1448",
   "metadata": {},
   "outputs": [],
   "source": [
    "train=pd.read_csv('D:/Python project/train.csv')\n",
    "test=pd.read_csv('D:/Python project/test.csv')"
   ]
  },
  {
   "cell_type": "code",
   "execution_count": 4,
   "id": "670217a7",
   "metadata": {},
   "outputs": [
    {
     "data": {
      "text/html": [
       "<div>\n",
       "<style scoped>\n",
       "    .dataframe tbody tr th:only-of-type {\n",
       "        vertical-align: middle;\n",
       "    }\n",
       "\n",
       "    .dataframe tbody tr th {\n",
       "        vertical-align: top;\n",
       "    }\n",
       "\n",
       "    .dataframe thead th {\n",
       "        text-align: right;\n",
       "    }\n",
       "</style>\n",
       "<table border=\"1\" class=\"dataframe\">\n",
       "  <thead>\n",
       "    <tr style=\"text-align: right;\">\n",
       "      <th></th>\n",
       "      <th>id</th>\n",
       "      <th>Gender</th>\n",
       "      <th>Age</th>\n",
       "      <th>Driving_License</th>\n",
       "      <th>Region_Code</th>\n",
       "      <th>Previously_Insured</th>\n",
       "      <th>Vehicle_Age</th>\n",
       "      <th>Vehicle_Damage</th>\n",
       "      <th>Annual_Premium</th>\n",
       "      <th>Policy_Sales_Channel</th>\n",
       "      <th>Vintage</th>\n",
       "      <th>Response</th>\n",
       "    </tr>\n",
       "  </thead>\n",
       "  <tbody>\n",
       "    <tr>\n",
       "      <th>0</th>\n",
       "      <td>1</td>\n",
       "      <td>Male</td>\n",
       "      <td>44</td>\n",
       "      <td>1</td>\n",
       "      <td>28.0</td>\n",
       "      <td>0</td>\n",
       "      <td>&gt; 2 Years</td>\n",
       "      <td>Yes</td>\n",
       "      <td>40454.0</td>\n",
       "      <td>26.0</td>\n",
       "      <td>217</td>\n",
       "      <td>1</td>\n",
       "    </tr>\n",
       "    <tr>\n",
       "      <th>1</th>\n",
       "      <td>2</td>\n",
       "      <td>Male</td>\n",
       "      <td>76</td>\n",
       "      <td>1</td>\n",
       "      <td>3.0</td>\n",
       "      <td>0</td>\n",
       "      <td>1-2 Year</td>\n",
       "      <td>No</td>\n",
       "      <td>33536.0</td>\n",
       "      <td>26.0</td>\n",
       "      <td>183</td>\n",
       "      <td>0</td>\n",
       "    </tr>\n",
       "    <tr>\n",
       "      <th>2</th>\n",
       "      <td>3</td>\n",
       "      <td>Male</td>\n",
       "      <td>47</td>\n",
       "      <td>1</td>\n",
       "      <td>28.0</td>\n",
       "      <td>0</td>\n",
       "      <td>&gt; 2 Years</td>\n",
       "      <td>Yes</td>\n",
       "      <td>38294.0</td>\n",
       "      <td>26.0</td>\n",
       "      <td>27</td>\n",
       "      <td>1</td>\n",
       "    </tr>\n",
       "    <tr>\n",
       "      <th>3</th>\n",
       "      <td>4</td>\n",
       "      <td>Male</td>\n",
       "      <td>21</td>\n",
       "      <td>1</td>\n",
       "      <td>11.0</td>\n",
       "      <td>1</td>\n",
       "      <td>&lt; 1 Year</td>\n",
       "      <td>No</td>\n",
       "      <td>28619.0</td>\n",
       "      <td>152.0</td>\n",
       "      <td>203</td>\n",
       "      <td>0</td>\n",
       "    </tr>\n",
       "    <tr>\n",
       "      <th>4</th>\n",
       "      <td>5</td>\n",
       "      <td>Female</td>\n",
       "      <td>29</td>\n",
       "      <td>1</td>\n",
       "      <td>41.0</td>\n",
       "      <td>1</td>\n",
       "      <td>&lt; 1 Year</td>\n",
       "      <td>No</td>\n",
       "      <td>27496.0</td>\n",
       "      <td>152.0</td>\n",
       "      <td>39</td>\n",
       "      <td>0</td>\n",
       "    </tr>\n",
       "    <tr>\n",
       "      <th>...</th>\n",
       "      <td>...</td>\n",
       "      <td>...</td>\n",
       "      <td>...</td>\n",
       "      <td>...</td>\n",
       "      <td>...</td>\n",
       "      <td>...</td>\n",
       "      <td>...</td>\n",
       "      <td>...</td>\n",
       "      <td>...</td>\n",
       "      <td>...</td>\n",
       "      <td>...</td>\n",
       "      <td>...</td>\n",
       "    </tr>\n",
       "    <tr>\n",
       "      <th>381104</th>\n",
       "      <td>381105</td>\n",
       "      <td>Male</td>\n",
       "      <td>74</td>\n",
       "      <td>1</td>\n",
       "      <td>26.0</td>\n",
       "      <td>1</td>\n",
       "      <td>1-2 Year</td>\n",
       "      <td>No</td>\n",
       "      <td>30170.0</td>\n",
       "      <td>26.0</td>\n",
       "      <td>88</td>\n",
       "      <td>0</td>\n",
       "    </tr>\n",
       "    <tr>\n",
       "      <th>381105</th>\n",
       "      <td>381106</td>\n",
       "      <td>Male</td>\n",
       "      <td>30</td>\n",
       "      <td>1</td>\n",
       "      <td>37.0</td>\n",
       "      <td>1</td>\n",
       "      <td>&lt; 1 Year</td>\n",
       "      <td>No</td>\n",
       "      <td>40016.0</td>\n",
       "      <td>152.0</td>\n",
       "      <td>131</td>\n",
       "      <td>0</td>\n",
       "    </tr>\n",
       "    <tr>\n",
       "      <th>381106</th>\n",
       "      <td>381107</td>\n",
       "      <td>Male</td>\n",
       "      <td>21</td>\n",
       "      <td>1</td>\n",
       "      <td>30.0</td>\n",
       "      <td>1</td>\n",
       "      <td>&lt; 1 Year</td>\n",
       "      <td>No</td>\n",
       "      <td>35118.0</td>\n",
       "      <td>160.0</td>\n",
       "      <td>161</td>\n",
       "      <td>0</td>\n",
       "    </tr>\n",
       "    <tr>\n",
       "      <th>381107</th>\n",
       "      <td>381108</td>\n",
       "      <td>Female</td>\n",
       "      <td>68</td>\n",
       "      <td>1</td>\n",
       "      <td>14.0</td>\n",
       "      <td>0</td>\n",
       "      <td>&gt; 2 Years</td>\n",
       "      <td>Yes</td>\n",
       "      <td>44617.0</td>\n",
       "      <td>124.0</td>\n",
       "      <td>74</td>\n",
       "      <td>0</td>\n",
       "    </tr>\n",
       "    <tr>\n",
       "      <th>381108</th>\n",
       "      <td>381109</td>\n",
       "      <td>Male</td>\n",
       "      <td>46</td>\n",
       "      <td>1</td>\n",
       "      <td>29.0</td>\n",
       "      <td>0</td>\n",
       "      <td>1-2 Year</td>\n",
       "      <td>No</td>\n",
       "      <td>41777.0</td>\n",
       "      <td>26.0</td>\n",
       "      <td>237</td>\n",
       "      <td>0</td>\n",
       "    </tr>\n",
       "  </tbody>\n",
       "</table>\n",
       "<p>381109 rows × 12 columns</p>\n",
       "</div>"
      ],
      "text/plain": [
       "            id  Gender  Age  Driving_License  Region_Code  Previously_Insured  \\\n",
       "0            1    Male   44                1         28.0                   0   \n",
       "1            2    Male   76                1          3.0                   0   \n",
       "2            3    Male   47                1         28.0                   0   \n",
       "3            4    Male   21                1         11.0                   1   \n",
       "4            5  Female   29                1         41.0                   1   \n",
       "...        ...     ...  ...              ...          ...                 ...   \n",
       "381104  381105    Male   74                1         26.0                   1   \n",
       "381105  381106    Male   30                1         37.0                   1   \n",
       "381106  381107    Male   21                1         30.0                   1   \n",
       "381107  381108  Female   68                1         14.0                   0   \n",
       "381108  381109    Male   46                1         29.0                   0   \n",
       "\n",
       "       Vehicle_Age Vehicle_Damage  Annual_Premium  Policy_Sales_Channel  \\\n",
       "0        > 2 Years            Yes         40454.0                  26.0   \n",
       "1         1-2 Year             No         33536.0                  26.0   \n",
       "2        > 2 Years            Yes         38294.0                  26.0   \n",
       "3         < 1 Year             No         28619.0                 152.0   \n",
       "4         < 1 Year             No         27496.0                 152.0   \n",
       "...            ...            ...             ...                   ...   \n",
       "381104    1-2 Year             No         30170.0                  26.0   \n",
       "381105    < 1 Year             No         40016.0                 152.0   \n",
       "381106    < 1 Year             No         35118.0                 160.0   \n",
       "381107   > 2 Years            Yes         44617.0                 124.0   \n",
       "381108    1-2 Year             No         41777.0                  26.0   \n",
       "\n",
       "        Vintage  Response  \n",
       "0           217         1  \n",
       "1           183         0  \n",
       "2            27         1  \n",
       "3           203         0  \n",
       "4            39         0  \n",
       "...         ...       ...  \n",
       "381104       88         0  \n",
       "381105      131         0  \n",
       "381106      161         0  \n",
       "381107       74         0  \n",
       "381108      237         0  \n",
       "\n",
       "[381109 rows x 12 columns]"
      ]
     },
     "execution_count": 4,
     "metadata": {},
     "output_type": "execute_result"
    }
   ],
   "source": [
    "train"
   ]
  },
  {
   "cell_type": "code",
   "execution_count": 87,
   "id": "162150e8",
   "metadata": {},
   "outputs": [
    {
     "data": {
      "text/plain": [
       "id                        int64\n",
       "Gender                   object\n",
       "Age                       int64\n",
       "Driving_License           int64\n",
       "Region_Code             float64\n",
       "Previously_Insured        int64\n",
       "Vehicle_Age              object\n",
       "Vehicle_Damage           object\n",
       "Annual_Premium          float64\n",
       "Policy_Sales_Channel    float64\n",
       "Vintage                   int64\n",
       "Response                  int64\n",
       "dtype: object"
      ]
     },
     "execution_count": 87,
     "metadata": {},
     "output_type": "execute_result"
    }
   ],
   "source": [
    "train.dtypes"
   ]
  },
  {
   "cell_type": "code",
   "execution_count": 6,
   "id": "165fa5ae",
   "metadata": {
    "scrolled": true
   },
   "outputs": [
    {
     "data": {
      "text/html": [
       "<div>\n",
       "<style scoped>\n",
       "    .dataframe tbody tr th:only-of-type {\n",
       "        vertical-align: middle;\n",
       "    }\n",
       "\n",
       "    .dataframe tbody tr th {\n",
       "        vertical-align: top;\n",
       "    }\n",
       "\n",
       "    .dataframe thead th {\n",
       "        text-align: right;\n",
       "    }\n",
       "</style>\n",
       "<table border=\"1\" class=\"dataframe\">\n",
       "  <thead>\n",
       "    <tr style=\"text-align: right;\">\n",
       "      <th></th>\n",
       "      <th>id</th>\n",
       "      <th>Gender</th>\n",
       "      <th>Age</th>\n",
       "      <th>Driving_License</th>\n",
       "      <th>Region_Code</th>\n",
       "      <th>Previously_Insured</th>\n",
       "      <th>Vehicle_Age</th>\n",
       "      <th>Vehicle_Damage</th>\n",
       "      <th>Annual_Premium</th>\n",
       "      <th>Policy_Sales_Channel</th>\n",
       "      <th>Vintage</th>\n",
       "    </tr>\n",
       "  </thead>\n",
       "  <tbody>\n",
       "    <tr>\n",
       "      <th>0</th>\n",
       "      <td>381110</td>\n",
       "      <td>Male</td>\n",
       "      <td>25</td>\n",
       "      <td>1</td>\n",
       "      <td>11.0</td>\n",
       "      <td>1</td>\n",
       "      <td>&lt; 1 Year</td>\n",
       "      <td>No</td>\n",
       "      <td>35786.0</td>\n",
       "      <td>152.0</td>\n",
       "      <td>53</td>\n",
       "    </tr>\n",
       "    <tr>\n",
       "      <th>1</th>\n",
       "      <td>381111</td>\n",
       "      <td>Male</td>\n",
       "      <td>40</td>\n",
       "      <td>1</td>\n",
       "      <td>28.0</td>\n",
       "      <td>0</td>\n",
       "      <td>1-2 Year</td>\n",
       "      <td>Yes</td>\n",
       "      <td>33762.0</td>\n",
       "      <td>7.0</td>\n",
       "      <td>111</td>\n",
       "    </tr>\n",
       "    <tr>\n",
       "      <th>2</th>\n",
       "      <td>381112</td>\n",
       "      <td>Male</td>\n",
       "      <td>47</td>\n",
       "      <td>1</td>\n",
       "      <td>28.0</td>\n",
       "      <td>0</td>\n",
       "      <td>1-2 Year</td>\n",
       "      <td>Yes</td>\n",
       "      <td>40050.0</td>\n",
       "      <td>124.0</td>\n",
       "      <td>199</td>\n",
       "    </tr>\n",
       "    <tr>\n",
       "      <th>3</th>\n",
       "      <td>381113</td>\n",
       "      <td>Male</td>\n",
       "      <td>24</td>\n",
       "      <td>1</td>\n",
       "      <td>27.0</td>\n",
       "      <td>1</td>\n",
       "      <td>&lt; 1 Year</td>\n",
       "      <td>Yes</td>\n",
       "      <td>37356.0</td>\n",
       "      <td>152.0</td>\n",
       "      <td>187</td>\n",
       "    </tr>\n",
       "    <tr>\n",
       "      <th>4</th>\n",
       "      <td>381114</td>\n",
       "      <td>Male</td>\n",
       "      <td>27</td>\n",
       "      <td>1</td>\n",
       "      <td>28.0</td>\n",
       "      <td>1</td>\n",
       "      <td>&lt; 1 Year</td>\n",
       "      <td>No</td>\n",
       "      <td>59097.0</td>\n",
       "      <td>152.0</td>\n",
       "      <td>297</td>\n",
       "    </tr>\n",
       "    <tr>\n",
       "      <th>...</th>\n",
       "      <td>...</td>\n",
       "      <td>...</td>\n",
       "      <td>...</td>\n",
       "      <td>...</td>\n",
       "      <td>...</td>\n",
       "      <td>...</td>\n",
       "      <td>...</td>\n",
       "      <td>...</td>\n",
       "      <td>...</td>\n",
       "      <td>...</td>\n",
       "      <td>...</td>\n",
       "    </tr>\n",
       "    <tr>\n",
       "      <th>127032</th>\n",
       "      <td>508142</td>\n",
       "      <td>Female</td>\n",
       "      <td>26</td>\n",
       "      <td>1</td>\n",
       "      <td>37.0</td>\n",
       "      <td>1</td>\n",
       "      <td>&lt; 1 Year</td>\n",
       "      <td>No</td>\n",
       "      <td>30867.0</td>\n",
       "      <td>152.0</td>\n",
       "      <td>56</td>\n",
       "    </tr>\n",
       "    <tr>\n",
       "      <th>127033</th>\n",
       "      <td>508143</td>\n",
       "      <td>Female</td>\n",
       "      <td>38</td>\n",
       "      <td>1</td>\n",
       "      <td>28.0</td>\n",
       "      <td>0</td>\n",
       "      <td>1-2 Year</td>\n",
       "      <td>Yes</td>\n",
       "      <td>28700.0</td>\n",
       "      <td>122.0</td>\n",
       "      <td>165</td>\n",
       "    </tr>\n",
       "    <tr>\n",
       "      <th>127034</th>\n",
       "      <td>508144</td>\n",
       "      <td>Male</td>\n",
       "      <td>21</td>\n",
       "      <td>1</td>\n",
       "      <td>46.0</td>\n",
       "      <td>1</td>\n",
       "      <td>&lt; 1 Year</td>\n",
       "      <td>No</td>\n",
       "      <td>29802.0</td>\n",
       "      <td>152.0</td>\n",
       "      <td>74</td>\n",
       "    </tr>\n",
       "    <tr>\n",
       "      <th>127035</th>\n",
       "      <td>508145</td>\n",
       "      <td>Male</td>\n",
       "      <td>71</td>\n",
       "      <td>1</td>\n",
       "      <td>28.0</td>\n",
       "      <td>1</td>\n",
       "      <td>1-2 Year</td>\n",
       "      <td>No</td>\n",
       "      <td>62875.0</td>\n",
       "      <td>26.0</td>\n",
       "      <td>265</td>\n",
       "    </tr>\n",
       "    <tr>\n",
       "      <th>127036</th>\n",
       "      <td>508146</td>\n",
       "      <td>Male</td>\n",
       "      <td>41</td>\n",
       "      <td>1</td>\n",
       "      <td>29.0</td>\n",
       "      <td>1</td>\n",
       "      <td>1-2 Year</td>\n",
       "      <td>No</td>\n",
       "      <td>27927.0</td>\n",
       "      <td>124.0</td>\n",
       "      <td>231</td>\n",
       "    </tr>\n",
       "  </tbody>\n",
       "</table>\n",
       "<p>127037 rows × 11 columns</p>\n",
       "</div>"
      ],
      "text/plain": [
       "            id  Gender  Age  Driving_License  Region_Code  Previously_Insured  \\\n",
       "0       381110    Male   25                1         11.0                   1   \n",
       "1       381111    Male   40                1         28.0                   0   \n",
       "2       381112    Male   47                1         28.0                   0   \n",
       "3       381113    Male   24                1         27.0                   1   \n",
       "4       381114    Male   27                1         28.0                   1   \n",
       "...        ...     ...  ...              ...          ...                 ...   \n",
       "127032  508142  Female   26                1         37.0                   1   \n",
       "127033  508143  Female   38                1         28.0                   0   \n",
       "127034  508144    Male   21                1         46.0                   1   \n",
       "127035  508145    Male   71                1         28.0                   1   \n",
       "127036  508146    Male   41                1         29.0                   1   \n",
       "\n",
       "       Vehicle_Age Vehicle_Damage  Annual_Premium  Policy_Sales_Channel  \\\n",
       "0         < 1 Year             No         35786.0                 152.0   \n",
       "1         1-2 Year            Yes         33762.0                   7.0   \n",
       "2         1-2 Year            Yes         40050.0                 124.0   \n",
       "3         < 1 Year            Yes         37356.0                 152.0   \n",
       "4         < 1 Year             No         59097.0                 152.0   \n",
       "...            ...            ...             ...                   ...   \n",
       "127032    < 1 Year             No         30867.0                 152.0   \n",
       "127033    1-2 Year            Yes         28700.0                 122.0   \n",
       "127034    < 1 Year             No         29802.0                 152.0   \n",
       "127035    1-2 Year             No         62875.0                  26.0   \n",
       "127036    1-2 Year             No         27927.0                 124.0   \n",
       "\n",
       "        Vintage  \n",
       "0            53  \n",
       "1           111  \n",
       "2           199  \n",
       "3           187  \n",
       "4           297  \n",
       "...         ...  \n",
       "127032       56  \n",
       "127033      165  \n",
       "127034       74  \n",
       "127035      265  \n",
       "127036      231  \n",
       "\n",
       "[127037 rows x 11 columns]"
      ]
     },
     "execution_count": 6,
     "metadata": {},
     "output_type": "execute_result"
    }
   ],
   "source": [
    "test"
   ]
  },
  {
   "cell_type": "code",
   "execution_count": 94,
   "id": "52b1bcea",
   "metadata": {},
   "outputs": [
    {
     "name": "stdout",
     "output_type": "stream",
     "text": [
      "Data colunm names:\n",
      "\n",
      "['id', 'Gender', 'Age', 'Driving_License', 'Region_Code', 'Previously_Insured', 'Vehicle_Age', 'Vehicle_Damage', 'Annual_Premium', 'Policy_Sales_Channel', 'Vintage', 'Response']\n",
      "['id', 'Gender', 'Age', 'Driving_License', 'Region_Code', 'Previously_Insured', 'Vehicle_Age', 'Vehicle_Damage', 'Annual_Premium', 'Policy_Sales_Channel', 'Vintage']\n",
      "---------------------------------------------------------------------------\n",
      "Data shapes:\n",
      "\n",
      "(381109, 12)\n",
      "(127037, 11)\n",
      "---------------------------------------------------------------------------\n",
      "Data descriptions:\n",
      "\n",
      "Train data descriptions:\n",
      "                 Age    Region_Code  Annual_Premium        Vintage\n",
      "count  381109.000000  381109.000000   381109.000000  381109.000000\n",
      "mean       38.822584      26.388807    30564.389581     154.347397\n",
      "std        15.511611      13.229888    17213.155057      83.671304\n",
      "min        20.000000       0.000000     2630.000000      10.000000\n",
      "25%        25.000000      15.000000    24405.000000      82.000000\n",
      "50%        36.000000      28.000000    31669.000000     154.000000\n",
      "75%        49.000000      35.000000    39400.000000     227.000000\n",
      "max        85.000000      52.000000   540165.000000     299.000000\n",
      "\n",
      "Test data descriptions:\n",
      "                 Age    Region_Code  Annual_Premium        Vintage\n",
      "count  127037.000000  127037.000000   127037.000000  127037.000000\n",
      "mean       38.765903      26.459866    30524.643576     154.318301\n",
      "std        15.465814      13.209916    16945.297103      83.661588\n",
      "min        20.000000       0.000000     2630.000000      10.000000\n",
      "25%        25.000000      15.000000    24325.000000      82.000000\n",
      "50%        36.000000      28.000000    31642.000000     154.000000\n",
      "75%        49.000000      35.000000    39408.000000     227.000000\n",
      "max        85.000000      52.000000   472042.000000     299.000000\n"
     ]
    }
   ],
   "source": [
    "print(\"Data colunm names:\\n\")\n",
    "print(list(train.columns.values.tolist()))\n",
    "print(list(test.columns.values.tolist()))\n",
    "print(\"---------------------------------------------------------------------------\")\n",
    "\n",
    "print(\"Data shapes:\\n\")\n",
    "print(train.shape)\n",
    "print(test.shape)\n",
    "print(\"---------------------------------------------------------------------------\")\n",
    "\n",
    "numerical_columns=['Age', 'Region_Code','Annual_Premium','Vintage']\n",
    "categorical_columns=['Gender','Driving_License','Previously_Insured','Vehicle_Age','Vehicle_Damage','Response']\n",
    "\n",
    "print(\"Data descriptions:\\n\")\n",
    "# descriptions\n",
    "print(\"Train data descriptions:\")\n",
    "print(train[numerical_columns].describe())\n",
    "\n",
    "print(\"\\nTest data descriptions:\")\n",
    "print(test[numerical_columns].describe())"
   ]
  },
  {
   "cell_type": "code",
   "execution_count": 16,
   "id": "3bc59058",
   "metadata": {},
   "outputs": [
    {
     "name": "stdout",
     "output_type": "stream",
     "text": [
      "<bound method DataFrame.info of             id  Gender  Age  Driving_License  Region_Code  Previously_Insured  \\\n",
      "0            1    Male   44                1         28.0                   0   \n",
      "1            2    Male   76                1          3.0                   0   \n",
      "2            3    Male   47                1         28.0                   0   \n",
      "3            4    Male   21                1         11.0                   1   \n",
      "4            5  Female   29                1         41.0                   1   \n",
      "...        ...     ...  ...              ...          ...                 ...   \n",
      "381104  381105    Male   74                1         26.0                   1   \n",
      "381105  381106    Male   30                1         37.0                   1   \n",
      "381106  381107    Male   21                1         30.0                   1   \n",
      "381107  381108  Female   68                1         14.0                   0   \n",
      "381108  381109    Male   46                1         29.0                   0   \n",
      "\n",
      "       Vehicle_Age Vehicle_Damage  Annual_Premium  Policy_Sales_Channel  \\\n",
      "0        > 2 Years            Yes         40454.0                  26.0   \n",
      "1         1-2 Year             No         33536.0                  26.0   \n",
      "2        > 2 Years            Yes         38294.0                  26.0   \n",
      "3         < 1 Year             No         28619.0                 152.0   \n",
      "4         < 1 Year             No         27496.0                 152.0   \n",
      "...            ...            ...             ...                   ...   \n",
      "381104    1-2 Year             No         30170.0                  26.0   \n",
      "381105    < 1 Year             No         40016.0                 152.0   \n",
      "381106    < 1 Year             No         35118.0                 160.0   \n",
      "381107   > 2 Years            Yes         44617.0                 124.0   \n",
      "381108    1-2 Year             No         41777.0                  26.0   \n",
      "\n",
      "        Vintage  Response  \n",
      "0           217         1  \n",
      "1           183         0  \n",
      "2            27         1  \n",
      "3           203         0  \n",
      "4            39         0  \n",
      "...         ...       ...  \n",
      "381104       88         0  \n",
      "381105      131         0  \n",
      "381106      161         0  \n",
      "381107       74         0  \n",
      "381108      237         0  \n",
      "\n",
      "[381109 rows x 12 columns]>\n"
     ]
    }
   ],
   "source": [
    "print(train.info)"
   ]
  },
  {
   "cell_type": "code",
   "execution_count": 5,
   "id": "59d2567d",
   "metadata": {},
   "outputs": [],
   "source": [
    "import numpy as np\n",
    "import seaborn as sns\n",
    "import matplotlib.pyplot as plt\n",
    "from matplotlib import pyplot\n",
    "%matplotlib inline\n",
    "sns.set()"
   ]
  },
  {
   "cell_type": "code",
   "execution_count": 44,
   "id": "5f872965",
   "metadata": {},
   "outputs": [
    {
     "data": {
      "text/plain": [
       "id                      0\n",
       "Gender                  0\n",
       "Age                     0\n",
       "Driving_License         0\n",
       "Region_Code             0\n",
       "Previously_Insured      0\n",
       "Vehicle_Age             0\n",
       "Vehicle_Damage          0\n",
       "Annual_Premium          0\n",
       "Policy_Sales_Channel    0\n",
       "Vintage                 0\n",
       "Response                0\n",
       "dtype: int64"
      ]
     },
     "execution_count": 44,
     "metadata": {},
     "output_type": "execute_result"
    }
   ],
   "source": [
    "# check missing values in train set\n",
    "train.isnull().sum()"
   ]
  },
  {
   "cell_type": "code",
   "execution_count": 45,
   "id": "e221b1ef",
   "metadata": {},
   "outputs": [
    {
     "data": {
      "text/plain": [
       "False"
      ]
     },
     "execution_count": 45,
     "metadata": {},
     "output_type": "execute_result"
    }
   ],
   "source": [
    "# check for duplicated data in train set\n",
    "train.duplicated().any()"
   ]
  },
  {
   "cell_type": "code",
   "execution_count": 8,
   "id": "443431b4",
   "metadata": {},
   "outputs": [
    {
     "data": {
      "text/plain": [
       "<AxesSubplot:>"
      ]
     },
     "execution_count": 8,
     "metadata": {},
     "output_type": "execute_result"
    },
    {
     "data": {
      "image/png": "[encoded data removed]",
      "text/plain": [
       "<Figure size 432x288 with 1 Axes>"
      ]
     },
     "metadata": {},
     "output_type": "display_data"
    }
   ],
   "source": [
    "sns.heatmap(train.isnull(), cbar=False, yticklabels=False, cmap='viridis')"
   ]
  },
  {
   "cell_type": "code",
   "execution_count": 9,
   "id": "31619ef1",
   "metadata": {},
   "outputs": [
    {
     "data": {
      "text/plain": [
       "<AxesSubplot:>"
      ]
     },
     "execution_count": 9,
     "metadata": {},
     "output_type": "execute_result"
    },
    {
     "data": {
      "image/png": "[encoded data removed]",
      "text/plain": [
       "<Figure size 432x288 with 1 Axes>"
      ]
     },
     "metadata": {},
     "output_type": "display_data"
    }
   ],
   "source": [
    "sns.heatmap(test.isnull(), cbar=False, yticklabels=False, cmap='viridis')"
   ]
  },
  {
   "cell_type": "markdown",
   "id": "249a0d55",
   "metadata": {},
   "source": [
    "### To check correlation\n",
    "To check correlation between different values of the dataset, insert below code in our existing dataset −"
   ]
  },
  {
   "cell_type": "code",
   "execution_count": 20,
   "id": "7309d03c",
   "metadata": {},
   "outputs": [
    {
     "data": {
      "text/plain": [
       "<AxesSubplot:>"
      ]
     },
     "execution_count": 20,
     "metadata": {},
     "output_type": "execute_result"
    },
    {
     "data": {
      "image/png": "[encoded data removed]",
      "text/plain": [
       "<Figure size 576x288 with 2 Axes>"
      ]
     },
     "metadata": {},
     "output_type": "display_data"
    }
   ],
   "source": [
    "plt.figure(figsize=(8,4))\n",
    "sns.heatmap(train.corr(),cmap='Greens',annot=True)"
   ]
  },
  {
   "cell_type": "code",
   "execution_count": 21,
   "id": "0893be84",
   "metadata": {
    "scrolled": true
   },
   "outputs": [
    {
     "data": {
      "text/plain": [
       "<AxesSubplot:>"
      ]
     },
     "execution_count": 21,
     "metadata": {},
     "output_type": "execute_result"
    },
    {
     "data": {
      "image/png": "[encoded data removed]",
      "text/plain": [
       "<Figure size 576x288 with 2 Axes>"
      ]
     },
     "metadata": {},
     "output_type": "display_data"
    }
   ],
   "source": [
    "plt.figure(figsize=(8,4))\n",
    "sns.heatmap(test.corr(),cmap='Greens',annot=True)"
   ]
  },
  {
   "cell_type": "markdown",
   "id": "4506ef91",
   "metadata": {},
   "source": [
    "# Data Visualization\n",
    "\n",
    "We now have a basic idea about the data. We need to extend that with some visualizations.\n",
    "\n",
    "We are going to look at two types of plots:\n",
    "\n",
    "Univariate plots to better understand each attribute.\n",
    "Multivariate plots to better understand the relationships between attributes."
   ]
  },
  {
   "cell_type": "markdown",
   "id": "932e1ad3",
   "metadata": {},
   "source": [
    "## Univariate Plots\n",
    "We start with some univariate plots, that is, plots of each individual variable.\n",
    "\n",
    "Given that the input variables are numeric, we can create box and whisker plots of each."
   ]
  },
  {
   "cell_type": "code",
   "execution_count": 99,
   "id": "4a4662cb",
   "metadata": {},
   "outputs": [
    {
     "data": {
      "image/png": "[encoded data removed]",
      "text/plain": [
       "<Figure size 432x288 with 4 Axes>"
      ]
     },
     "metadata": {},
     "output_type": "display_data"
    }
   ],
   "source": [
    "# box and whisker plots\n",
    "train[numerical_columns].plot(kind='box', subplots=True, layout=(2,2), sharex=False, sharey=False)\n",
    "pyplot.show()"
   ]
  },
  {
   "cell_type": "code",
   "execution_count": 25,
   "id": "a3fded56",
   "metadata": {
    "scrolled": true
   },
   "outputs": [
    {
     "data": {
      "image/png": "[encoded data removed]",
      "text/plain": [
       "<Figure size 432x288 with 6 Axes>"
      ]
     },
     "metadata": {},
     "output_type": "display_data"
    }
   ],
   "source": [
    "# histogram\n",
    "histg_columns=['Age', 'Previously_Insured','Annual_Premium','Vintage','Response']\n",
    "train[histg_columns].hist(layout=(2,3))\n",
    "pyplot.show()"
   ]
  },
  {
   "cell_type": "code",
   "execution_count": 22,
   "id": "ea6d8553",
   "metadata": {},
   "outputs": [
    {
     "name": "stderr",
     "output_type": "stream",
     "text": [
      "C:\\Users\\Lenovo\\anaconda3\\lib\\site-packages\\seaborn\\_decorators.py:36: FutureWarning: Pass the following variable as a keyword arg: x. From version 0.12, the only valid positional argument will be `data`, and passing other arguments without an explicit keyword will result in an error or misinterpretation.\n",
      "  warnings.warn(\n"
     ]
    },
    {
     "data": {
      "text/plain": [
       "<AxesSubplot:xlabel='Gender', ylabel='count'>"
      ]
     },
     "execution_count": 22,
     "metadata": {},
     "output_type": "execute_result"
    },
    {
     "data": {
      "image/png": "[encoded data removed]",
      "text/plain": [
       "<Figure size 432x288 with 1 Axes>"
      ]
     },
     "metadata": {},
     "output_type": "display_data"
    }
   ],
   "source": [
    "sns.countplot(train.Gender)"
   ]
  },
  {
   "cell_type": "code",
   "execution_count": 21,
   "id": "17bcde27",
   "metadata": {},
   "outputs": [
    {
     "name": "stderr",
     "output_type": "stream",
     "text": [
      "C:\\Users\\Lenovo\\anaconda3\\lib\\site-packages\\seaborn\\_decorators.py:36: FutureWarning: Pass the following variable as a keyword arg: x. From version 0.12, the only valid positional argument will be `data`, and passing other arguments without an explicit keyword will result in an error or misinterpretation.\n",
      "  warnings.warn(\n",
      "C:\\Users\\Lenovo\\anaconda3\\lib\\site-packages\\seaborn\\_decorators.py:36: FutureWarning: Pass the following variable as a keyword arg: x. From version 0.12, the only valid positional argument will be `data`, and passing other arguments without an explicit keyword will result in an error or misinterpretation.\n",
      "  warnings.warn(\n"
     ]
    },
    {
     "data": {
      "text/plain": [
       "<AxesSubplot:xlabel='Vehicle_Age', ylabel='count'>"
      ]
     },
     "execution_count": 21,
     "metadata": {},
     "output_type": "execute_result"
    },
    {
     "data": {
      "image/png": "[encoded data removed]",
      "text/plain": [
       "<Figure size 432x288 with 1 Axes>"
      ]
     },
     "metadata": {},
     "output_type": "display_data"
    }
   ],
   "source": [
    "sns.countplot(train.Vehicle_Age)"
   ]
  },
  {
   "cell_type": "code",
   "execution_count": 23,
   "id": "5dd75632",
   "metadata": {},
   "outputs": [
    {
     "name": "stderr",
     "output_type": "stream",
     "text": [
      "C:\\Users\\Lenovo\\anaconda3\\lib\\site-packages\\seaborn\\_decorators.py:36: FutureWarning: Pass the following variable as a keyword arg: x. From version 0.12, the only valid positional argument will be `data`, and passing other arguments without an explicit keyword will result in an error or misinterpretation.\n",
      "  warnings.warn(\n"
     ]
    },
    {
     "data": {
      "text/plain": [
       "<AxesSubplot:xlabel='Vehicle_Damage', ylabel='count'>"
      ]
     },
     "execution_count": 23,
     "metadata": {},
     "output_type": "execute_result"
    },
    {
     "data": {
      "image/png": "[encoded data removed]",
      "text/plain": [
       "<Figure size 432x288 with 1 Axes>"
      ]
     },
     "metadata": {},
     "output_type": "display_data"
    }
   ],
   "source": [
    "sns.countplot(train.Vehicle_Damage)"
   ]
  },
  {
   "cell_type": "markdown",
   "id": "c9a20453",
   "metadata": {},
   "source": [
    "# Consider the relationship between different variables"
   ]
  },
  {
   "cell_type": "markdown",
   "id": "3ab642dd",
   "metadata": {},
   "source": [
    "## Will Age and Gender related to difference of Annual Premium in Vehicle Insurance provided by the company?\n"
   ]
  },
  {
   "cell_type": "code",
   "execution_count": 79,
   "id": "f67811b6",
   "metadata": {},
   "outputs": [
    {
     "data": {
      "text/plain": [
       "<AxesSubplot:xlabel='Age', ylabel='Annual_Premium'>"
      ]
     },
     "execution_count": 79,
     "metadata": {},
     "output_type": "execute_result"
    },
    {
     "data": {
      "image/png": "[encoded data removed]",
      "text/plain": [
       "<Figure size 432x288 with 1 Axes>"
      ]
     },
     "metadata": {},
     "output_type": "display_data"
    }
   ],
   "source": [
    "sns.lineplot(x=\"Age\", y=\"Annual_Premium\", hue=\"Gender\",data=dfplot)"
   ]
  },
  {
   "cell_type": "markdown",
   "id": "c4c368ae",
   "metadata": {},
   "source": [
    "## Will gender ralted with difference of response of interests in Vehicle Insurance provided by the company?\n"
   ]
  },
  {
   "cell_type": "code",
   "execution_count": 84,
   "id": "a850b6d6",
   "metadata": {},
   "outputs": [
    {
     "data": {
      "text/plain": [
       "<AxesSubplot:xlabel='Response', ylabel='Count'>"
      ]
     },
     "execution_count": 84,
     "metadata": {},
     "output_type": "execute_result"
    },
    {
     "data": {
      "image/png": "[encoded data removed]",
      "text/plain": [
       "<Figure size 432x288 with 1 Axes>"
      ]
     },
     "metadata": {},
     "output_type": "display_data"
    }
   ],
   "source": [
    "sns.histplot(data=train, x=\"Response\", hue=\"Gender\", multiple=\"dodge\")"
   ]
  },
  {
   "cell_type": "markdown",
   "id": "1990179d",
   "metadata": {},
   "source": [
    "## Will age reltaed with difference of response of interests in Vehicle Insurance provided by the company?"
   ]
  },
  {
   "cell_type": "code",
   "execution_count": 100,
   "id": "ac61882b",
   "metadata": {},
   "outputs": [
    {
     "data": {
      "text/plain": [
       "<AxesSubplot:xlabel='Age', ylabel='Count'>"
      ]
     },
     "execution_count": 100,
     "metadata": {},
     "output_type": "execute_result"
    },
    {
     "data": {
      "image/png": "[encoded data removed]",
      "text/plain": [
       "<Figure size 432x288 with 1 Axes>"
      ]
     },
     "metadata": {},
     "output_type": "display_data"
    }
   ],
   "source": [
    "sns.histplot(data=train, x=\"Age\", hue=\"Response\", multiple=\"dodge\")"
   ]
  },
  {
   "cell_type": "markdown",
   "id": "73b15875",
   "metadata": {},
   "source": [
    "\n",
    "## Will Gender, Age, Previously_Insured, Vehicle_Age, Vehicle_Damage, Vintage, related to Annual_Premium?\n"
   ]
  },
  {
   "cell_type": "code",
   "execution_count": 95,
   "id": "fc6425f3",
   "metadata": {},
   "outputs": [
    {
     "data": {
      "text/html": [
       "<table class=\"simpletable\">\n",
       "<caption>OLS Regression Results</caption>\n",
       "<tr>\n",
       "  <th>Dep. Variable:</th>        <td>Response</td>     <th>  R-squared:         </th> <td>   0.146</td> \n",
       "</tr>\n",
       "<tr>\n",
       "  <th>Model:</th>                   <td>OLS</td>       <th>  Adj. R-squared:    </th> <td>   0.146</td> \n",
       "</tr>\n",
       "<tr>\n",
       "  <th>Method:</th>             <td>Least Squares</td>  <th>  F-statistic:       </th> <td>   9281.</td> \n",
       "</tr>\n",
       "<tr>\n",
       "  <th>Date:</th>             <td>Sat, 14 Jan 2023</td> <th>  Prob (F-statistic):</th>  <td>  0.00</td>  \n",
       "</tr>\n",
       "<tr>\n",
       "  <th>Time:</th>                 <td>23:11:53</td>     <th>  Log-Likelihood:    </th> <td> -85862.</td> \n",
       "</tr>\n",
       "<tr>\n",
       "  <th>No. Observations:</th>      <td>381109</td>      <th>  AIC:               </th> <td>1.717e+05</td>\n",
       "</tr>\n",
       "<tr>\n",
       "  <th>Df Residuals:</th>          <td>381101</td>      <th>  BIC:               </th> <td>1.718e+05</td>\n",
       "</tr>\n",
       "<tr>\n",
       "  <th>Df Model:</th>              <td>     7</td>      <th>                     </th>     <td> </td>    \n",
       "</tr>\n",
       "<tr>\n",
       "  <th>Covariance Type:</th>      <td>nonrobust</td>    <th>                     </th>     <td> </td>    \n",
       "</tr>\n",
       "</table>\n",
       "<table class=\"simpletable\">\n",
       "<tr>\n",
       "               <td></td>                 <th>coef</th>     <th>std err</th>      <th>t</th>      <th>P>|t|</th>  <th>[0.025</th>    <th>0.975]</th>  \n",
       "</tr>\n",
       "<tr>\n",
       "  <th>Intercept</th>                  <td>    0.1274</td> <td>    0.002</td> <td>   53.404</td> <td> 0.000</td> <td>    0.123</td> <td>    0.132</td>\n",
       "</tr>\n",
       "<tr>\n",
       "  <th>C(Gender)[T.Male]</th>          <td>    0.0067</td> <td>    0.001</td> <td>    6.668</td> <td> 0.000</td> <td>    0.005</td> <td>    0.009</td>\n",
       "</tr>\n",
       "<tr>\n",
       "  <th>C(Previously_Insured)[T.1]</th> <td>   -0.0885</td> <td>    0.002</td> <td>  -50.568</td> <td> 0.000</td> <td>   -0.092</td> <td>   -0.085</td>\n",
       "</tr>\n",
       "<tr>\n",
       "  <th>Vehicle_Age[T.1]</th>           <td>    0.1181</td> <td>    0.002</td> <td>   70.242</td> <td> 0.000</td> <td>    0.115</td> <td>    0.121</td>\n",
       "</tr>\n",
       "<tr>\n",
       "  <th>Vehicle_Age[T.2]</th>           <td>    0.1781</td> <td>    0.003</td> <td>   57.562</td> <td> 0.000</td> <td>    0.172</td> <td>    0.184</td>\n",
       "</tr>\n",
       "<tr>\n",
       "  <th>C(Vehicle_Damage)[T.Yes]</th>   <td>    0.1332</td> <td>    0.002</td> <td>   75.792</td> <td> 0.000</td> <td>    0.130</td> <td>    0.137</td>\n",
       "</tr>\n",
       "<tr>\n",
       "  <th>Age</th>                        <td>   -0.0027</td> <td> 5.19e-05</td> <td>  -51.923</td> <td> 0.000</td> <td>   -0.003</td> <td>   -0.003</td>\n",
       "</tr>\n",
       "<tr>\n",
       "  <th>Vintage</th>                    <td>-6.942e-08</td> <td> 5.87e-06</td> <td>   -0.012</td> <td> 0.991</td> <td>-1.16e-05</td> <td> 1.14e-05</td>\n",
       "</tr>\n",
       "</table>\n",
       "<table class=\"simpletable\">\n",
       "<tr>\n",
       "  <th>Omnibus:</th>       <td>107355.430</td> <th>  Durbin-Watson:     </th>  <td>   1.995</td> \n",
       "</tr>\n",
       "<tr>\n",
       "  <th>Prob(Omnibus):</th>   <td> 0.000</td>   <th>  Jarque-Bera (JB):  </th> <td>233288.148</td>\n",
       "</tr>\n",
       "<tr>\n",
       "  <th>Skew:</th>            <td> 1.677</td>   <th>  Prob(JB):          </th>  <td>    0.00</td> \n",
       "</tr>\n",
       "<tr>\n",
       "  <th>Kurtosis:</th>        <td> 4.856</td>   <th>  Cond. No.          </th>  <td>1.25e+03</td> \n",
       "</tr>\n",
       "</table><br/><br/>Notes:<br/>[1] Standard Errors assume that the covariance matrix of the errors is correctly specified.<br/>[2] The condition number is large, 1.25e+03. This might indicate that there are<br/>strong multicollinearity or other numerical problems."
      ],
      "text/plain": [
       "<class 'statsmodels.iolib.summary.Summary'>\n",
       "\"\"\"\n",
       "                            OLS Regression Results                            \n",
       "==============================================================================\n",
       "Dep. Variable:               Response   R-squared:                       0.146\n",
       "Model:                            OLS   Adj. R-squared:                  0.146\n",
       "Method:                 Least Squares   F-statistic:                     9281.\n",
       "Date:                Sat, 14 Jan 2023   Prob (F-statistic):               0.00\n",
       "Time:                        23:11:53   Log-Likelihood:                -85862.\n",
       "No. Observations:              381109   AIC:                         1.717e+05\n",
       "Df Residuals:                  381101   BIC:                         1.718e+05\n",
       "Df Model:                           7                                         \n",
       "Covariance Type:            nonrobust                                         \n",
       "==============================================================================================\n",
       "                                 coef    std err          t      P>|t|      [0.025      0.975]\n",
       "----------------------------------------------------------------------------------------------\n",
       "Intercept                      0.1274      0.002     53.404      0.000       0.123       0.132\n",
       "C(Gender)[T.Male]              0.0067      0.001      6.668      0.000       0.005       0.009\n",
       "C(Previously_Insured)[T.1]    -0.0885      0.002    -50.568      0.000      -0.092      -0.085\n",
       "Vehicle_Age[T.1]               0.1181      0.002     70.242      0.000       0.115       0.121\n",
       "Vehicle_Age[T.2]               0.1781      0.003     57.562      0.000       0.172       0.184\n",
       "C(Vehicle_Damage)[T.Yes]       0.1332      0.002     75.792      0.000       0.130       0.137\n",
       "Age                           -0.0027   5.19e-05    -51.923      0.000      -0.003      -0.003\n",
       "Vintage                    -6.942e-08   5.87e-06     -0.012      0.991   -1.16e-05    1.14e-05\n",
       "==============================================================================\n",
       "Omnibus:                   107355.430   Durbin-Watson:                   1.995\n",
       "Prob(Omnibus):                  0.000   Jarque-Bera (JB):           233288.148\n",
       "Skew:                           1.677   Prob(JB):                         0.00\n",
       "Kurtosis:                       4.856   Cond. No.                     1.25e+03\n",
       "==============================================================================\n",
       "\n",
       "Notes:\n",
       "[1] Standard Errors assume that the covariance matrix of the errors is correctly specified.\n",
       "[2] The condition number is large, 1.25e+03. This might indicate that there are\n",
       "strong multicollinearity or other numerical problems.\n",
       "\"\"\""
      ]
     },
     "execution_count": 95,
     "metadata": {},
     "output_type": "execute_result"
    }
   ],
   "source": [
    "from statsmodels.formula.api import ols\n",
    "df=train\n",
    "#not sure about this, should I convert vehicle age directly to dummy variable?\n",
    "df.loc[df[\"Vehicle_Age\"]==\"< 1 Year\",\"Vehicle_Age\"]=1\n",
    "df.loc[df[\"Vehicle_Age\"]==\"1-2 Year\",\"Vehicle_Age\"]=2\n",
    "df.loc[df[\"Vehicle_Age\"]==\"> 2 Years\",\"Vehicle_Age\"]=3\n",
    "\n",
    "fit = ols('Response ~ C(Gender) +Age+ C(Previously_Insured) + Vehicle_Age+C(Vehicle_Damage)+Vintage', data=df).fit() \n",
    "\n",
    "fit.summary()"
   ]
  },
  {
   "cell_type": "markdown",
   "id": "26c50391",
   "metadata": {},
   "source": [
    "## Will Gender, Age, Previously_Insured, Vehicle_Age, Vehicle_Damage,  Annual_Premium, Vintage, related to response of interests in Vehicle Insurance provided by the company?"
   ]
  },
  {
   "cell_type": "markdown",
   "id": "1de121c6",
   "metadata": {},
   "source": [
    "### Build a logistic model to check coefficient for each variables"
   ]
  },
  {
   "cell_type": "code",
   "execution_count": 127,
   "id": "67f7bfc4",
   "metadata": {},
   "outputs": [],
   "source": [
    "import pandas as pd\n",
    "import numpy as np\n",
    "from sklearn import preprocessing\n",
    "import matplotlib.pyplot as plt \n",
    "plt.rc(\"font\", size=14)\n",
    "from sklearn.linear_model import LogisticRegression\n",
    "from sklearn.model_selection import train_test_split\n",
    "import seaborn as sns\n",
    "sns.set(style=\"white\")\n",
    "sns.set(style=\"whitegrid\", color_codes=True)"
   ]
  },
  {
   "cell_type": "code",
   "execution_count": 128,
   "id": "7e2110f2",
   "metadata": {},
   "outputs": [],
   "source": [
    "from sklearn.preprocessing import StandardScaler\n",
    "from sklearn.model_selection import train_test_split\n",
    "from sklearn.linear_model import LogisticRegression\n",
    "from sklearn.metrics import log_loss, roc_auc_score, recall_score, precision_score, average_precision_score, f1_score, classification_report, accuracy_score, plot_roc_curve, plot_precision_recall_curve, plot_confusion_matrix"
   ]
  },
  {
   "cell_type": "code",
   "execution_count": 108,
   "id": "b250012e",
   "metadata": {},
   "outputs": [
    {
     "data": {
      "text/html": [
       "<div>\n",
       "<style scoped>\n",
       "    .dataframe tbody tr th:only-of-type {\n",
       "        vertical-align: middle;\n",
       "    }\n",
       "\n",
       "    .dataframe tbody tr th {\n",
       "        vertical-align: top;\n",
       "    }\n",
       "\n",
       "    .dataframe thead th {\n",
       "        text-align: right;\n",
       "    }\n",
       "</style>\n",
       "<table border=\"1\" class=\"dataframe\">\n",
       "  <thead>\n",
       "    <tr style=\"text-align: right;\">\n",
       "      <th></th>\n",
       "      <th>Age</th>\n",
       "      <th>Driving_License</th>\n",
       "      <th>Region_Code</th>\n",
       "      <th>Vehicle_Age</th>\n",
       "      <th>Annual_Premium</th>\n",
       "      <th>Policy_Sales_Channel</th>\n",
       "      <th>Vintage</th>\n",
       "      <th>Response</th>\n",
       "      <th>Agegroup</th>\n",
       "      <th>Gender_Male</th>\n",
       "      <th>Previously_Insured_1</th>\n",
       "      <th>Vehicle_Damage_Yes</th>\n",
       "    </tr>\n",
       "  </thead>\n",
       "  <tbody>\n",
       "    <tr>\n",
       "      <th>0</th>\n",
       "      <td>44</td>\n",
       "      <td>1</td>\n",
       "      <td>28.0</td>\n",
       "      <td>2</td>\n",
       "      <td>40454.0</td>\n",
       "      <td>26.0</td>\n",
       "      <td>217</td>\n",
       "      <td>1</td>\n",
       "      <td>2</td>\n",
       "      <td>1</td>\n",
       "      <td>0</td>\n",
       "      <td>1</td>\n",
       "    </tr>\n",
       "    <tr>\n",
       "      <th>1</th>\n",
       "      <td>76</td>\n",
       "      <td>1</td>\n",
       "      <td>3.0</td>\n",
       "      <td>1</td>\n",
       "      <td>33536.0</td>\n",
       "      <td>26.0</td>\n",
       "      <td>183</td>\n",
       "      <td>0</td>\n",
       "      <td>5</td>\n",
       "      <td>1</td>\n",
       "      <td>0</td>\n",
       "      <td>0</td>\n",
       "    </tr>\n",
       "    <tr>\n",
       "      <th>2</th>\n",
       "      <td>47</td>\n",
       "      <td>1</td>\n",
       "      <td>28.0</td>\n",
       "      <td>2</td>\n",
       "      <td>38294.0</td>\n",
       "      <td>26.0</td>\n",
       "      <td>27</td>\n",
       "      <td>1</td>\n",
       "      <td>3</td>\n",
       "      <td>1</td>\n",
       "      <td>0</td>\n",
       "      <td>1</td>\n",
       "    </tr>\n",
       "    <tr>\n",
       "      <th>3</th>\n",
       "      <td>21</td>\n",
       "      <td>1</td>\n",
       "      <td>11.0</td>\n",
       "      <td>0</td>\n",
       "      <td>28619.0</td>\n",
       "      <td>152.0</td>\n",
       "      <td>203</td>\n",
       "      <td>0</td>\n",
       "      <td>1</td>\n",
       "      <td>1</td>\n",
       "      <td>1</td>\n",
       "      <td>0</td>\n",
       "    </tr>\n",
       "    <tr>\n",
       "      <th>4</th>\n",
       "      <td>29</td>\n",
       "      <td>1</td>\n",
       "      <td>41.0</td>\n",
       "      <td>0</td>\n",
       "      <td>27496.0</td>\n",
       "      <td>152.0</td>\n",
       "      <td>39</td>\n",
       "      <td>0</td>\n",
       "      <td>1</td>\n",
       "      <td>0</td>\n",
       "      <td>1</td>\n",
       "      <td>0</td>\n",
       "    </tr>\n",
       "    <tr>\n",
       "      <th>...</th>\n",
       "      <td>...</td>\n",
       "      <td>...</td>\n",
       "      <td>...</td>\n",
       "      <td>...</td>\n",
       "      <td>...</td>\n",
       "      <td>...</td>\n",
       "      <td>...</td>\n",
       "      <td>...</td>\n",
       "      <td>...</td>\n",
       "      <td>...</td>\n",
       "      <td>...</td>\n",
       "      <td>...</td>\n",
       "    </tr>\n",
       "    <tr>\n",
       "      <th>381104</th>\n",
       "      <td>74</td>\n",
       "      <td>1</td>\n",
       "      <td>26.0</td>\n",
       "      <td>1</td>\n",
       "      <td>30170.0</td>\n",
       "      <td>26.0</td>\n",
       "      <td>88</td>\n",
       "      <td>0</td>\n",
       "      <td>5</td>\n",
       "      <td>1</td>\n",
       "      <td>1</td>\n",
       "      <td>0</td>\n",
       "    </tr>\n",
       "    <tr>\n",
       "      <th>381105</th>\n",
       "      <td>30</td>\n",
       "      <td>1</td>\n",
       "      <td>37.0</td>\n",
       "      <td>0</td>\n",
       "      <td>40016.0</td>\n",
       "      <td>152.0</td>\n",
       "      <td>131</td>\n",
       "      <td>0</td>\n",
       "      <td>1</td>\n",
       "      <td>1</td>\n",
       "      <td>1</td>\n",
       "      <td>0</td>\n",
       "    </tr>\n",
       "    <tr>\n",
       "      <th>381106</th>\n",
       "      <td>21</td>\n",
       "      <td>1</td>\n",
       "      <td>30.0</td>\n",
       "      <td>0</td>\n",
       "      <td>35118.0</td>\n",
       "      <td>160.0</td>\n",
       "      <td>161</td>\n",
       "      <td>0</td>\n",
       "      <td>1</td>\n",
       "      <td>1</td>\n",
       "      <td>1</td>\n",
       "      <td>0</td>\n",
       "    </tr>\n",
       "    <tr>\n",
       "      <th>381107</th>\n",
       "      <td>68</td>\n",
       "      <td>1</td>\n",
       "      <td>14.0</td>\n",
       "      <td>2</td>\n",
       "      <td>44617.0</td>\n",
       "      <td>124.0</td>\n",
       "      <td>74</td>\n",
       "      <td>0</td>\n",
       "      <td>4</td>\n",
       "      <td>0</td>\n",
       "      <td>0</td>\n",
       "      <td>1</td>\n",
       "    </tr>\n",
       "    <tr>\n",
       "      <th>381108</th>\n",
       "      <td>46</td>\n",
       "      <td>1</td>\n",
       "      <td>29.0</td>\n",
       "      <td>1</td>\n",
       "      <td>41777.0</td>\n",
       "      <td>26.0</td>\n",
       "      <td>237</td>\n",
       "      <td>0</td>\n",
       "      <td>2</td>\n",
       "      <td>1</td>\n",
       "      <td>0</td>\n",
       "      <td>0</td>\n",
       "    </tr>\n",
       "  </tbody>\n",
       "</table>\n",
       "<p>381109 rows × 12 columns</p>\n",
       "</div>"
      ],
      "text/plain": [
       "        Age  Driving_License  Region_Code Vehicle_Age  Annual_Premium  \\\n",
       "0        44                1         28.0           2         40454.0   \n",
       "1        76                1          3.0           1         33536.0   \n",
       "2        47                1         28.0           2         38294.0   \n",
       "3        21                1         11.0           0         28619.0   \n",
       "4        29                1         41.0           0         27496.0   \n",
       "...     ...              ...          ...         ...             ...   \n",
       "381104   74                1         26.0           1         30170.0   \n",
       "381105   30                1         37.0           0         40016.0   \n",
       "381106   21                1         30.0           0         35118.0   \n",
       "381107   68                1         14.0           2         44617.0   \n",
       "381108   46                1         29.0           1         41777.0   \n",
       "\n",
       "        Policy_Sales_Channel  Vintage  Response Agegroup  Gender_Male  \\\n",
       "0                       26.0      217         1        2            1   \n",
       "1                       26.0      183         0        5            1   \n",
       "2                       26.0       27         1        3            1   \n",
       "3                      152.0      203         0        1            1   \n",
       "4                      152.0       39         0        1            0   \n",
       "...                      ...      ...       ...      ...          ...   \n",
       "381104                  26.0       88         0        5            1   \n",
       "381105                 152.0      131         0        1            1   \n",
       "381106                 160.0      161         0        1            1   \n",
       "381107                 124.0       74         0        4            0   \n",
       "381108                  26.0      237         0        2            1   \n",
       "\n",
       "        Previously_Insured_1  Vehicle_Damage_Yes  \n",
       "0                          0                   1  \n",
       "1                          0                   0  \n",
       "2                          0                   1  \n",
       "3                          1                   0  \n",
       "4                          1                   0  \n",
       "...                      ...                 ...  \n",
       "381104                     1                   0  \n",
       "381105                     1                   0  \n",
       "381106                     1                   0  \n",
       "381107                     0                   1  \n",
       "381108                     0                   0  \n",
       "\n",
       "[381109 rows x 12 columns]"
      ]
     },
     "execution_count": 108,
     "metadata": {},
     "output_type": "execute_result"
    }
   ],
   "source": [
    "#We can use the get_dummies function to convert them into dummy variables. \n",
    "#The drop_first parameter is set to True so that the unnecessary first level dummy variable is removed.\n",
    "df=train.drop('id',axis=1)\n",
    "df.loc[df[\"Vehicle_Age\"]==\"< 1 Year\",\"Vehicle_Age\"]=1\n",
    "df.loc[df[\"Vehicle_Age\"]==\"1-2 Year\",\"Vehicle_Age\"]=2\n",
    "df.loc[df[\"Vehicle_Age\"]==\"> 2 Years\",\"Vehicle_Age\"]=3\n",
    "\n",
    "df = pd.get_dummies(df, columns=['Gender','Previously_Insured', 'Vehicle_Damage'], drop_first=True)\n",
    "\n",
    "df\n"
   ]
  },
  {
   "cell_type": "markdown",
   "id": "e1f86a4e",
   "metadata": {},
   "source": [
    "Over-sampling using SMOTE\n",
    "With our training data created, I’ll up-sample the no-subscription using the SMOTE algorithm(Synthetic Minority Oversampling Technique). At a high level, SMOTE:\n",
    "\n",
    "Works by creating synthetic samples from the minor class (no-subscription) instead of creating copies.\n",
    "Randomly choosing one of the k-nearest-neighbors and using it to create a similar, but randomly tweaked, new observations."
   ]
  },
  {
   "cell_type": "code",
   "execution_count": 121,
   "id": "6ed4dbb1",
   "metadata": {},
   "outputs": [
    {
     "name": "stdout",
     "output_type": "stream",
     "text": [
      "Collecting package metadata (current_repodata.json): ...working... done\n",
      "Solving environment: ...working... done\n",
      "\n",
      "## Package Plan ##\n",
      "\n",
      "  environment location: C:\\Users\\Lenovo\\anaconda3\n",
      "\n",
      "  added / updated specs:\n",
      "    - imbalanced-learn\n",
      "\n",
      "\n",
      "Note: you may need to restart the kernel to use updated packages.\n",
      "\n",
      "The following packages will be downloaded:\n",
      "\n",
      "    package                    |            build\n",
      "    ---------------------------|-----------------\n",
      "    imbalanced-learn-0.4.3     |             py_0          88 KB  conda-forge/label/cf201901\n",
      "    ------------------------------------------------------------\n",
      "                                           Total:          88 KB\n",
      "\n",
      "The following NEW packages will be INSTALLED:\n",
      "\n",
      "  imbalanced-learn   conda-forge/label/cf201901/noarch::imbalanced-learn-0.4.3-py_0\n",
      "\n",
      "\n",
      "\n",
      "Downloading and Extracting Packages\n",
      "\n",
      "imbalanced-learn-0.4 | 88 KB     |            |   0% \n"
     ]
    },
    {
     "name": "stderr",
     "output_type": "stream",
     "text": [
      "\n",
      "\n",
      "==> WARNING: A newer version of conda exists. <==\n",
      "  current version: 4.11.0\n",
      "  latest version: 22.11.1\n",
      "\n",
      "Please update conda by running\n",
      "\n",
      "    $ conda update -n base -c defaults conda\n",
      "\n",
      "\n"
     ]
    },
    {
     "name": "stdout",
     "output_type": "stream",
     "text": [
      "imbalanced-learn-0.4 | 88 KB     | #8         |  18% \n",
      "imbalanced-learn-0.4 | 88 KB     | ########## | 100% \n",
      "imbalanced-learn-0.4 | 88 KB     | ########## | 100% \n",
      "Preparing transaction: ...working... done\n",
      "Verifying transaction: ...working... done\n",
      "Executing transaction: ...working... done\n"
     ]
    }
   ],
   "source": [
    "#conda install -c \"conda-forge/label/cf201901\" imbalanced-learn"
   ]
  },
  {
   "cell_type": "code",
   "execution_count": 136,
   "id": "2bde7148",
   "metadata": {},
   "outputs": [
    {
     "ename": "ImportError",
     "evalue": "cannot import name 'safe_indexing' from 'sklearn.utils' (C:\\Users\\Lenovo\\anaconda3\\lib\\site-packages\\sklearn\\utils\\__init__.py)",
     "output_type": "error",
     "traceback": [
      "\u001b[1;31m---------------------------------------------------------------------------\u001b[0m",
      "\u001b[1;31mImportError\u001b[0m                               Traceback (most recent call last)",
      "\u001b[1;32m<ipython-input-136-cd95d7936ce8>\u001b[0m in \u001b[0;36m<module>\u001b[1;34m\u001b[0m\n\u001b[0;32m      9\u001b[0m \u001b[0my\u001b[0m \u001b[1;33m=\u001b[0m \u001b[0mdf\u001b[0m\u001b[1;33m[\u001b[0m\u001b[1;34m'Response'\u001b[0m\u001b[1;33m]\u001b[0m\u001b[1;33m\u001b[0m\u001b[1;33m\u001b[0m\u001b[0m\n\u001b[0;32m     10\u001b[0m \u001b[1;33m\u001b[0m\u001b[0m\n\u001b[1;32m---> 11\u001b[1;33m \u001b[1;32mfrom\u001b[0m \u001b[0mimblearn\u001b[0m\u001b[1;33m.\u001b[0m\u001b[0mover_sampling\u001b[0m \u001b[1;32mimport\u001b[0m \u001b[0mSMOTE\u001b[0m\u001b[1;33m\u001b[0m\u001b[1;33m\u001b[0m\u001b[0m\n\u001b[0m\u001b[0;32m     12\u001b[0m \u001b[1;31m# transform the dataset to solve the imblance problem with SMOTE technique\u001b[0m\u001b[1;33m\u001b[0m\u001b[1;33m\u001b[0m\u001b[1;33m\u001b[0m\u001b[0m\n\u001b[0;32m     13\u001b[0m \u001b[0moversample\u001b[0m \u001b[1;33m=\u001b[0m \u001b[0mSMOTE\u001b[0m\u001b[1;33m(\u001b[0m\u001b[1;33m)\u001b[0m\u001b[1;33m\u001b[0m\u001b[1;33m\u001b[0m\u001b[0m\n",
      "\u001b[1;32m~\\anaconda3\\lib\\site-packages\\imblearn\\over_sampling\\__init__.py\u001b[0m in \u001b[0;36m<module>\u001b[1;34m\u001b[0m\n\u001b[0;32m      4\u001b[0m \"\"\"\n\u001b[0;32m      5\u001b[0m \u001b[1;33m\u001b[0m\u001b[0m\n\u001b[1;32m----> 6\u001b[1;33m \u001b[1;32mfrom\u001b[0m \u001b[1;33m.\u001b[0m\u001b[0m_adasyn\u001b[0m \u001b[1;32mimport\u001b[0m \u001b[0mADASYN\u001b[0m\u001b[1;33m\u001b[0m\u001b[1;33m\u001b[0m\u001b[0m\n\u001b[0m\u001b[0;32m      7\u001b[0m \u001b[1;32mfrom\u001b[0m \u001b[1;33m.\u001b[0m\u001b[0m_random_over_sampler\u001b[0m \u001b[1;32mimport\u001b[0m \u001b[0mRandomOverSampler\u001b[0m\u001b[1;33m\u001b[0m\u001b[1;33m\u001b[0m\u001b[0m\n\u001b[0;32m      8\u001b[0m \u001b[1;32mfrom\u001b[0m \u001b[1;33m.\u001b[0m\u001b[0m_smote\u001b[0m \u001b[1;32mimport\u001b[0m \u001b[0mSMOTE\u001b[0m\u001b[1;33m\u001b[0m\u001b[1;33m\u001b[0m\u001b[0m\n",
      "\u001b[1;32m~\\anaconda3\\lib\\site-packages\\imblearn\\over_sampling\\_adasyn.py\u001b[0m in \u001b[0;36m<module>\u001b[1;34m\u001b[0m\n\u001b[0;32m     10\u001b[0m \u001b[1;32mfrom\u001b[0m \u001b[0mscipy\u001b[0m \u001b[1;32mimport\u001b[0m \u001b[0msparse\u001b[0m\u001b[1;33m\u001b[0m\u001b[1;33m\u001b[0m\u001b[0m\n\u001b[0;32m     11\u001b[0m \u001b[1;33m\u001b[0m\u001b[0m\n\u001b[1;32m---> 12\u001b[1;33m \u001b[1;32mfrom\u001b[0m \u001b[0msklearn\u001b[0m\u001b[1;33m.\u001b[0m\u001b[0mutils\u001b[0m \u001b[1;32mimport\u001b[0m \u001b[0mcheck_random_state\u001b[0m\u001b[1;33m,\u001b[0m \u001b[0msafe_indexing\u001b[0m\u001b[1;33m\u001b[0m\u001b[1;33m\u001b[0m\u001b[0m\n\u001b[0m\u001b[0;32m     13\u001b[0m \u001b[1;33m\u001b[0m\u001b[0m\n\u001b[0;32m     14\u001b[0m \u001b[1;32mfrom\u001b[0m \u001b[1;33m.\u001b[0m\u001b[0mbase\u001b[0m \u001b[1;32mimport\u001b[0m \u001b[0mBaseOverSampler\u001b[0m\u001b[1;33m\u001b[0m\u001b[1;33m\u001b[0m\u001b[0m\n",
      "\u001b[1;31mImportError\u001b[0m: cannot import name 'safe_indexing' from 'sklearn.utils' (C:\\Users\\Lenovo\\anaconda3\\lib\\site-packages\\sklearn\\utils\\__init__.py)"
     ]
    }
   ],
   "source": [
    "#Divide the data into “attributes” and “labels”\n",
    "#axis=1 delete colunm, axis=0, delete row\n",
    "import six\n",
    "import sys\n",
    "import sklearn.neighbors._base\n",
    "sys.modules['sklearn.neighbors.base'] = sklearn.neighbors._base\n",
    "\n",
    "X = df.drop('Response',axis=1) #separate the other attributes from the predicting attribute\n",
    "y = df['Response']\n",
    "\n",
    "from imblearn.over_sampling import SMOTE\n",
    "# transform the dataset to solve the imblance problem with SMOTE technique\n",
    "oversample = SMOTE()\n",
    "X, y = oversample.fit_resample(X, y)\n"
   ]
  },
  {
   "cell_type": "code",
   "execution_count": 137,
   "id": "53d44408",
   "metadata": {},
   "outputs": [
    {
     "name": "stdout",
     "output_type": "stream",
     "text": [
      "X_train: 304887 X_test: 76222\n",
      "y_train: 304887 y_test: 76222\n"
     ]
    }
   ],
   "source": [
    "#Split Training and Test Datasets\n",
    "from sklearn.model_selection import train_test_split\n",
    "\n",
    "# Split data into train and test \n",
    "X_train, X_test, y_train, y_test = train_test_split(X, \n",
    "                                                    y, \n",
    "                                                    test_size=0.20, \n",
    "                                                    random_state=0)\n",
    "print(\"X_train:\",len(X_train),\"X_test:\",len(X_test))\n",
    "print(\"y_train:\",len(y_train),\"y_test:\",len(y_test))"
   ]
  },
  {
   "cell_type": "markdown",
   "id": "214c5bdd",
   "metadata": {},
   "source": [
    "### Transform the Numerical Variables: Scaling"
   ]
  },
  {
   "cell_type": "markdown",
   "id": "a2ac2ef8",
   "metadata": {},
   "source": [
    "### Implementing the model"
   ]
  },
  {
   "cell_type": "code",
   "execution_count": 140,
   "id": "c543a7aa",
   "metadata": {},
   "outputs": [
    {
     "name": "stdout",
     "output_type": "stream",
     "text": [
      "Optimization terminated successfully.\n",
      "         Current function value: 0.277380\n",
      "         Iterations 11\n",
      "                           Results: Logit\n",
      "=====================================================================\n",
      "Model:               Logit             Pseudo R-squared:  0.254      \n",
      "Dependent Variable:  Response          AIC:               211446.0760\n",
      "Date:                2023-01-15 00:20  BIC:               211565.4353\n",
      "No. Observations:    381109            Log-Likelihood:    -1.0571e+05\n",
      "Df Model:            10                LL-Null:           -1.4177e+05\n",
      "Df Residuals:        381098            LLR p-value:       0.0000     \n",
      "Converged:           1.0000            Scale:             1.0000     \n",
      "No. Iterations:      11.0000                                         \n",
      "---------------------------------------------------------------------\n",
      "                      Coef.  Std.Err.    z     P>|z|   [0.025  0.975]\n",
      "---------------------------------------------------------------------\n",
      "Age                   0.0055   0.0014   3.8268 0.0001  0.0027  0.0084\n",
      "Driving_License      -2.3468   0.0404 -58.0675 0.0000 -2.4260 -2.2676\n",
      "Region_Code          -0.0021   0.0004  -4.8582 0.0000 -0.0029 -0.0012\n",
      "Vehicle_Age           0.7031   0.0130  53.9916 0.0000  0.6776  0.7286\n",
      "Annual_Premium        0.0000   0.0000   2.3522 0.0187  0.0000  0.0000\n",
      "Policy_Sales_Channel -0.0035   0.0001 -33.2317 0.0000 -0.0038 -0.0033\n",
      "Vintage              -0.0002   0.0001  -3.6699 0.0002 -0.0004 -0.0001\n",
      "Agegroup             -0.4167   0.0188 -22.1642 0.0000 -0.4535 -0.3798\n",
      "Gender_Male           0.0776   0.0111   7.0180 0.0000  0.0560  0.0993\n",
      "Previously_Insured_1 -4.2432   0.0822 -51.6174 0.0000 -4.4043 -4.0821\n",
      "Vehicle_Damage_Yes    1.7056   0.0289  58.9510 0.0000  1.6489  1.7624\n",
      "=====================================================================\n",
      "\n"
     ]
    }
   ],
   "source": [
    "import statsmodels.api as sm\n",
    "logit_model=sm.Logit(y,X.astype(float))\n",
    "result=logit_model.fit()\n",
    "print(result.summary2())"
   ]
  },
  {
   "cell_type": "markdown",
   "id": "5de28e16",
   "metadata": {},
   "source": [
    "# Decision tree model and prediction"
   ]
  },
  {
   "cell_type": "code",
   "execution_count": null,
   "id": "2ad867de",
   "metadata": {},
   "outputs": [],
   "source": []
  },
  {
   "cell_type": "code",
   "execution_count": null,
   "id": "1343b6c5",
   "metadata": {},
   "outputs": [],
   "source": []
  },
  {
   "cell_type": "code",
   "execution_count": null,
   "id": "df6687c7",
   "metadata": {},
   "outputs": [],
   "source": []
  },
  {
   "cell_type": "code",
   "execution_count": null,
   "id": "6cbec20f",
   "metadata": {},
   "outputs": [],
   "source": []
  },
  {
   "cell_type": "code",
   "execution_count": null,
   "id": "4f3e5b1d",
   "metadata": {},
   "outputs": [],
   "source": []
  },
  {
   "cell_type": "code",
   "execution_count": null,
   "id": "0592fd18",
   "metadata": {},
   "outputs": [],
   "source": []
  },
  {
   "cell_type": "code",
   "execution_count": null,
   "id": "07a367c1",
   "metadata": {},
   "outputs": [],
   "source": []
  },
  {
   "cell_type": "markdown",
   "id": "4e74435f",
   "metadata": {},
   "source": [
    "# Prediction model building and training using RandomForestClassifier and AdaBoostClassifier"
   ]
  },
  {
   "cell_type": "code",
   "execution_count": 87,
   "id": "c6ecb283",
   "metadata": {},
   "outputs": [
    {
     "name": "stderr",
     "output_type": "stream",
     "text": [
      "C:\\Users\\Lenovo\\anaconda3\\lib\\site-packages\\pandas\\core\\indexing.py:1720: SettingWithCopyWarning: \n",
      "A value is trying to be set on a copy of a slice from a DataFrame.\n",
      "Try using .loc[row_indexer,col_indexer] = value instead\n",
      "\n",
      "See the caveats in the documentation: https://pandas.pydata.org/pandas-docs/stable/user_guide/indexing.html#returning-a-view-versus-a-copy\n",
      "  self._setitem_single_column(loc, value, pi)\n"
     ]
    },
    {
     "name": "stdout",
     "output_type": "stream",
     "text": [
      "            id Gender  Age  Previously_Insured Vehicle_Age Vehicle_Damage  \\\n",
      "0            1      1   44                   0           2              1   \n",
      "1            2      1   76                   0           1              0   \n",
      "2            3      1   47                   0           2              1   \n",
      "3            4      1   21                   1           0              0   \n",
      "4            5      0   29                   1           0              0   \n",
      "...        ...    ...  ...                 ...         ...            ...   \n",
      "381104  381105      1   74                   1           1              0   \n",
      "381105  381106      1   30                   1           0              0   \n",
      "381106  381107      1   21                   1           0              0   \n",
      "381107  381108      0   68                   0           2              1   \n",
      "381108  381109      1   46                   0           1              0   \n",
      "\n",
      "        Annual_Premium  Vintage  Response  \n",
      "0              40454.0      217         1  \n",
      "1              33536.0      183         0  \n",
      "2              38294.0       27         1  \n",
      "3              28619.0      203         0  \n",
      "4              27496.0       39         0  \n",
      "...                ...      ...       ...  \n",
      "381104         30170.0       88         0  \n",
      "381105         40016.0      131         0  \n",
      "381106         35118.0      161         0  \n",
      "381107         44617.0       74         0  \n",
      "381108         41777.0      237         0  \n",
      "\n",
      "[381109 rows x 9 columns]\n"
     ]
    }
   ],
   "source": [
    "## Encode the categorical variables (Gender, Vehicle_Age,Vehicle_Damage) to create dummy variables\n",
    "# do not know how to deal with Region_Code\n",
    "#anavar=['id', 'Gender', 'Age', 'Previously_Insured', 'Vehicle_Age', 'Vehicle_Damage', 'Annual_Premium', 'Vintage', 'Response']\n",
    "anavar=[ 'Gender', 'Age', 'Previously_Insured', 'Vehicle_Age', 'Vehicle_Damage', 'Annual_Premium', 'Vintage', 'Response']\n",
    "df=train[anavar]\n",
    "df.loc[df[\"Gender\"]==\"Female\",\"Gender\"]=0\n",
    "df.loc[df[\"Gender\"]==\"Male\",\"Gender\"]=1\n",
    "\n",
    "\n",
    "df.loc[df[\"Vehicle_Age\"]==\"< 1 Year\",\"Vehicle_Age\"]=0\n",
    "df.loc[df[\"Vehicle_Age\"]==\"1-2 Year\",\"Vehicle_Age\"]=1\n",
    "df.loc[df[\"Vehicle_Age\"]==\"> 2 Years\",\"Vehicle_Age\"]=2\n",
    "\n",
    "\n",
    "df.loc[df[\"Vehicle_Damage\"]==\"Yes\",\"Vehicle_Damage\"]=1\n",
    "df.loc[df[\"Vehicle_Damage\"]==\"No\",\"Vehicle_Damage\"]=0\n",
    "\n",
    "\n",
    "print(df)"
   ]
  },
  {
   "cell_type": "markdown",
   "id": "09a54e52",
   "metadata": {},
   "source": [
    "Seperate training dateset and use machine learning model"
   ]
  },
  {
   "cell_type": "code",
   "execution_count": null,
   "id": "332d0012",
   "metadata": {},
   "outputs": [],
   "source": [
    "#Divide the data into “attributes” and “labels”\n",
    "X = df.drop('Response',axis=1) #separate the other attributes from the predicting attribute\n",
    "y = df['Response']\n",
    "\n",
    "!pip install imbalanced-learn\n",
    "from imblearn.over_sampling import SMOTE\n",
    "# transform the dataset to solve the imblance problem with SMOTE technique\n",
    "oversample = SMOTE()\n",
    "X, y = oversample.fit_resample(X, y)\n"
   ]
  },
  {
   "cell_type": "code",
   "execution_count": null,
   "id": "cd6ce416",
   "metadata": {},
   "outputs": [],
   "source": [
    "from sklearn.model_selection import train_test_split\n",
    "\n",
    "# Split data into train and test \n",
    "X_train, X_test, y_train, y_test = train_test_split(X, \n",
    "                                                    y, \n",
    "                                                    test_size=0.20, \n",
    "                                                    random_state=0)\n",
    "print(\"X_train:\",len(X_train),\"X_test:\",len(X_test))\n",
    "print(\"y_train:\",len(y_train),\"y_test:\",len(y_test))"
   ]
  },
  {
   "cell_type": "code",
   "execution_count": 43,
   "id": "ca4c1df5",
   "metadata": {},
   "outputs": [
    {
     "name": "stdout",
     "output_type": "stream",
     "text": [
      "Report for Test Data\n",
      "\n",
      "              precision    recall  f1-score   support\n",
      "\n",
      "           0       0.88      0.98      0.93     66846\n",
      "           1       0.33      0.07      0.12      9376\n",
      "\n",
      "    accuracy                           0.87     76222\n",
      "   macro avg       0.61      0.53      0.52     76222\n",
      "weighted avg       0.82      0.87      0.83     76222\n",
      "\n",
      "Report for Training Data\n",
      "\n",
      "              precision    recall  f1-score   support\n",
      "\n",
      "           0       1.00      1.00      1.00    267553\n",
      "           1       1.00      1.00      1.00     37334\n",
      "\n",
      "    accuracy                           1.00    304887\n",
      "   macro avg       1.00      1.00      1.00    304887\n",
      "weighted avg       1.00      1.00      1.00    304887\n",
      "\n"
     ]
    },
    {
     "data": {
      "text/plain": [
       "<sklearn.metrics._plot.roc_curve.RocCurveDisplay at 0x11629548a90>"
      ]
     },
     "execution_count": 43,
     "metadata": {},
     "output_type": "execute_result"
    },
    {
     "data": {
      "image/png": "[encoded data removed]",
      "text/plain": [
       "<Figure size 432x288 with 1 Axes>"
      ]
     },
     "metadata": {},
     "output_type": "display_data"
    }
   ],
   "source": [
    "from sklearn.ensemble import RandomForestClassifier\n",
    "from sklearn.metrics import accuracy_score, recall_score, classification_report\n",
    "from sklearn.metrics import plot_roc_curve\n",
    "\n",
    "rf = RandomForestClassifier(n_estimators=1000,\n",
    "                            max_features='sqrt',\n",
    "                            random_state=0,\n",
    "                            class_weight='balanced')\n",
    "\n",
    "\n",
    "# fitting the data in the pipe \n",
    "rf.fit(X_train, y_train) \n",
    "  \n",
    "# Test scoring data  \n",
    "print(\"Report for Test Data\\n\")\n",
    "print(classification_report(y_test,rf.predict(X_test)))\n",
    "\n",
    "# Train scoring data  \n",
    "print(\"Report for Training Data\\n\")\n",
    "print(classification_report(y_train,rf.predict(X_train)))\n",
    "\n",
    "# ROC curve plot\n",
    "plot_roc_curve(rf, X_test, y_test) "
   ]
  },
  {
   "cell_type": "code",
   "execution_count": 103,
   "id": "040d7ad4",
   "metadata": {},
   "outputs": [
    {
     "name": "stdout",
     "output_type": "stream",
     "text": [
      "Feature Importance:  [0.28021969 0.00408764 0.11974471 0.05472777 0.01890653 0.07134601\n",
      " 0.21620367 0.23476398]\n"
     ]
    },
    {
     "data": {
      "text/plain": [
       "<AxesSubplot:>"
      ]
     },
     "execution_count": 103,
     "metadata": {},
     "output_type": "execute_result"
    },
    {
     "data": {
      "image/png": "[encoded data removed]",
      "text/plain": [
       "<Figure size 432x288 with 1 Axes>"
      ]
     },
     "metadata": {},
     "output_type": "display_data"
    }
   ],
   "source": [
    "## Determine the top important deatures as returned by the deatureimportances\n",
    "## attribute from the trained estimator. Create a bat plot which shows all features from highest to lowest in terms of important features.\n",
    "print(\"Feature Importance: \",rf.feature_importances_)\n",
    "feat_importances = pd.DataFrame(rf.feature_importances_, index=X_train.columns, columns=[\"Importance\"])\n",
    "feat_importances.sort_values(by='Importance', ascending=False, inplace=True)\n",
    "feat_importances.plot(kind='bar')"
   ]
  },
  {
   "cell_type": "code",
   "execution_count": 46,
   "id": "46988086",
   "metadata": {},
   "outputs": [
    {
     "name": "stdout",
     "output_type": "stream",
     "text": [
      "     fit_time  score_time  test_prec  test_roc_auc  test_accuracy  test_recall\n",
      "0  437.732418   33.918397   0.354885      0.830567       0.869605     0.079396\n",
      "1  431.422071   32.368229   0.343494      0.827272       0.869251     0.074241\n",
      "2  432.177557   37.003873   0.351072      0.831400       0.869605     0.076330\n",
      "3  429.412334   32.138058   0.317126      0.828067       0.867635     0.070235\n",
      "4  432.743987   34.712471   0.340711      0.830813       0.869623     0.069270\n",
      "5  437.681903   36.234202   0.318249      0.828339       0.867910     0.068949\n"
     ]
    }
   ],
   "source": [
    "# Implement cross validation with 6 folds,along with score dictionary to report precision, roc-auc, accuracy and recall for all folds\n",
    "\n",
    "from sklearn.model_selection import cross_val_score, cross_validate\n",
    "scoring = {'prec': 'precision','roc_auc': 'roc_auc',\n",
    "           'accuracy':'accuracy','recall':'recall'}\n",
    "\n",
    "# Cross validate\n",
    "cv_results = cross_validate(rf, \n",
    "                            X_train, y_train.ravel(), \n",
    "                            cv=6, \n",
    "                            scoring=scoring)\n",
    "\n",
    "# Convert dict to dataframe\n",
    "cv_df = pd.DataFrame.from_dict(cv_results)\n",
    "print(cv_df)"
   ]
  },
  {
   "cell_type": "code",
   "execution_count": 47,
   "id": "10795a2b",
   "metadata": {},
   "outputs": [
    {
     "data": {
      "text/html": [
       "<div>\n",
       "<style scoped>\n",
       "    .dataframe tbody tr th:only-of-type {\n",
       "        vertical-align: middle;\n",
       "    }\n",
       "\n",
       "    .dataframe tbody tr th {\n",
       "        vertical-align: top;\n",
       "    }\n",
       "\n",
       "    .dataframe thead th {\n",
       "        text-align: right;\n",
       "    }\n",
       "</style>\n",
       "<table border=\"1\" class=\"dataframe\">\n",
       "  <thead>\n",
       "    <tr style=\"text-align: right;\">\n",
       "      <th></th>\n",
       "      <th>test_prec</th>\n",
       "      <th>test_roc_auc</th>\n",
       "      <th>test_accuracy</th>\n",
       "      <th>test_recall</th>\n",
       "    </tr>\n",
       "  </thead>\n",
       "  <tbody>\n",
       "    <tr>\n",
       "      <th>count</th>\n",
       "      <td>6.000000</td>\n",
       "      <td>6.000000</td>\n",
       "      <td>6.000000</td>\n",
       "      <td>6.000000</td>\n",
       "    </tr>\n",
       "    <tr>\n",
       "      <th>mean</th>\n",
       "      <td>0.337590</td>\n",
       "      <td>0.829410</td>\n",
       "      <td>0.868938</td>\n",
       "      <td>0.073070</td>\n",
       "    </tr>\n",
       "    <tr>\n",
       "      <th>std</th>\n",
       "      <td>0.016238</td>\n",
       "      <td>0.001720</td>\n",
       "      <td>0.000918</td>\n",
       "      <td>0.004277</td>\n",
       "    </tr>\n",
       "    <tr>\n",
       "      <th>min</th>\n",
       "      <td>0.317126</td>\n",
       "      <td>0.827272</td>\n",
       "      <td>0.867635</td>\n",
       "      <td>0.068949</td>\n",
       "    </tr>\n",
       "    <tr>\n",
       "      <th>25%</th>\n",
       "      <td>0.323865</td>\n",
       "      <td>0.828135</td>\n",
       "      <td>0.868246</td>\n",
       "      <td>0.069511</td>\n",
       "    </tr>\n",
       "    <tr>\n",
       "      <th>50%</th>\n",
       "      <td>0.342103</td>\n",
       "      <td>0.829453</td>\n",
       "      <td>0.869428</td>\n",
       "      <td>0.072238</td>\n",
       "    </tr>\n",
       "    <tr>\n",
       "      <th>75%</th>\n",
       "      <td>0.349177</td>\n",
       "      <td>0.830752</td>\n",
       "      <td>0.869605</td>\n",
       "      <td>0.075807</td>\n",
       "    </tr>\n",
       "    <tr>\n",
       "      <th>max</th>\n",
       "      <td>0.354885</td>\n",
       "      <td>0.831400</td>\n",
       "      <td>0.869623</td>\n",
       "      <td>0.079396</td>\n",
       "    </tr>\n",
       "  </tbody>\n",
       "</table>\n",
       "</div>"
      ],
      "text/plain": [
       "       test_prec  test_roc_auc  test_accuracy  test_recall\n",
       "count   6.000000      6.000000       6.000000     6.000000\n",
       "mean    0.337590      0.829410       0.868938     0.073070\n",
       "std     0.016238      0.001720       0.000918     0.004277\n",
       "min     0.317126      0.827272       0.867635     0.068949\n",
       "25%     0.323865      0.828135       0.868246     0.069511\n",
       "50%     0.342103      0.829453       0.869428     0.072238\n",
       "75%     0.349177      0.830752       0.869605     0.075807\n",
       "max     0.354885      0.831400       0.869623     0.079396"
      ]
     },
     "execution_count": 47,
     "metadata": {},
     "output_type": "execute_result"
    },
    {
     "data": {
      "image/png": "[encoded data removed]",
      "text/plain": [
       "<Figure size 432x288 with 1 Axes>"
      ]
     },
     "metadata": {},
     "output_type": "display_data"
    }
   ],
   "source": [
    "#Create boxplot and show them matrix\n",
    "cv_df.boxplot(column=['test_prec','test_roc_auc','test_accuracy','test_recall'])\n",
    "\n",
    "cv_df.iloc[:,2:6].describe()"
   ]
  },
  {
   "cell_type": "code",
   "execution_count": 48,
   "id": "98f4fb74",
   "metadata": {},
   "outputs": [
    {
     "name": "stdout",
     "output_type": "stream",
     "text": [
      "Report for Test Data\n",
      "\n",
      "              precision    recall  f1-score   support\n",
      "\n",
      "           0       0.88      0.98      0.93     66846\n",
      "           1       0.33      0.07      0.12      9376\n",
      "\n",
      "    accuracy                           0.87     76222\n",
      "   macro avg       0.61      0.53      0.52     76222\n",
      "weighted avg       0.82      0.87      0.83     76222\n",
      "\n",
      "Report for Training Data\n",
      "\n",
      "              precision    recall  f1-score   support\n",
      "\n",
      "           0       1.00      1.00      1.00    267553\n",
      "           1       1.00      1.00      1.00     37334\n",
      "\n",
      "    accuracy                           1.00    304887\n",
      "   macro avg       1.00      1.00      1.00    304887\n",
      "weighted avg       1.00      1.00      1.00    304887\n",
      "\n"
     ]
    },
    {
     "data": {
      "text/plain": [
       "<sklearn.metrics._plot.roc_curve.RocCurveDisplay at 0x1162da5e340>"
      ]
     },
     "execution_count": 48,
     "metadata": {},
     "output_type": "execute_result"
    },
    {
     "data": {
      "image/png": "[encoded data removed]",
      "text/plain": [
       "<Figure size 432x288 with 1 Axes>"
      ]
     },
     "metadata": {},
     "output_type": "display_data"
    }
   ],
   "source": [
    "## Generate AdaBoostClassifier model with random_state=0, compare two model\n",
    "from sklearn.ensemble import AdaBoostClassifier\n",
    "from sklearn.metrics import accuracy_score, recall_score, classification_report\n",
    "from sklearn.metrics import plot_roc_curve\n",
    "\n",
    "AB = AdaBoostClassifier(n_estimators=1000,\n",
    "                            random_state=0)\n",
    "\n",
    "# fitting the data in the pipe \n",
    "AB.fit(X_train, y_train) \n",
    "  \n",
    "# Test scoring data  \n",
    "print(\"Report for Test Data\\n\")\n",
    "print(classification_report(y_test,rf.predict(X_test)))\n",
    "\n",
    "# Train scoring data  \n",
    "print(\"Report for Training Data\\n\")\n",
    "print(classification_report(y_train,rf.predict(X_train)))\n",
    "\n",
    "# ROC curve plot\n",
    "plot_roc_curve(rf, X_test, y_test) "
   ]
  },
  {
   "cell_type": "code",
   "execution_count": 104,
   "id": "3981fc6a",
   "metadata": {},
   "outputs": [
    {
     "name": "stdout",
     "output_type": "stream",
     "text": [
      "Feature Importance:  [0.578 0.001 0.124 0.008 0.009 0.005 0.174 0.101]\n"
     ]
    },
    {
     "data": {
      "text/plain": [
       "<AxesSubplot:>"
      ]
     },
     "execution_count": 104,
     "metadata": {},
     "output_type": "execute_result"
    },
    {
     "data": {
      "image/png": "[encoded data removed]",
      "text/plain": [
       "<Figure size 432x288 with 1 Axes>"
      ]
     },
     "metadata": {},
     "output_type": "display_data"
    }
   ],
   "source": [
    "## Determine the top important deatures as returned by the deatureimportances\n",
    "## attribute from the trained estimator. Create a bat plot which shows all features from highest to lowest in terms of important features.\n",
    "print(\"Feature Importance: \",AB.feature_importances_)\n",
    "feat_importances = pd.DataFrame(AB.feature_importances_, index=X_train.columns, columns=[\"Importance\"])\n",
    "feat_importances.sort_values(by='Importance', ascending=False, inplace=True)\n",
    "feat_importances.plot(kind='bar')"
   ]
  },
  {
   "cell_type": "code",
   "execution_count": null,
   "id": "7c4f48bb",
   "metadata": {},
   "outputs": [],
   "source": [
    "# Implement cross validation with 6 folds,along with score dictionary to report precision, roc-auc, accuracy and recall for all folds\n",
    "\n",
    "from sklearn.model_selection import cross_val_score, cross_validate\n",
    "scoring = {'prec': 'precision','roc_auc': 'roc_auc',\n",
    "           'accuracy':'accuracy','recall':'recall'}\n",
    "\n",
    "# Cross validate\n",
    "cv_results = cross_validate(AB, \n",
    "                            X_train, y_train.ravel(), \n",
    "                            cv=6, \n",
    "                            scoring=scoring)\n",
    "\n",
    "# Convert dict to dataframe\n",
    "cv_df = pd.DataFrame.from_dict(cv_results)\n",
    "print(cv_df)"
   ]
  },
  {
   "cell_type": "code",
   "execution_count": null,
   "id": "e6f2a61b",
   "metadata": {},
   "outputs": [],
   "source": [
    "#Create boxplot and show them matrix\n",
    "cv_df.boxplot(column=['test_prec','test_roc_auc','test_accuracy','test_recall'])\n",
    "\n",
    "cv_df.iloc[:,2:6].describe()"
   ]
  },
  {
   "cell_type": "markdown",
   "id": "b6a48bee",
   "metadata": {},
   "source": [
    "# Testing data repsonse prediction"
   ]
  },
  {
   "cell_type": "code",
   "execution_count": null,
   "id": "47063259",
   "metadata": {},
   "outputs": [],
   "source": [
    "# Evaluate model on test set with random forest model\n",
    "preds = rf.predict(test[['id', 'Gender', 'Age', 'Previously_Insured', 'Vehicle_Age', 'Vehicle_Damage', 'Annual_Premium', 'Vintage']])\n",
    "print(preds)"
   ]
  },
  {
   "cell_type": "code",
   "execution_count": null,
   "id": "4ebfe6b9",
   "metadata": {},
   "outputs": [],
   "source": [
    "# Evaluate model on test set with AdaBoostClassifier model\n",
    "preds = AB.predict(test[['id', 'Gender', 'Age', 'Previously_Insured', 'Vehicle_Age', 'Vehicle_Damage', 'Annual_Premium', 'Vintage']])\n",
    "print(preds)"
   ]
  }
 ],
 "metadata": {
  "kernelspec": {
   "display_name": "Python 3",
   "language": "python",
   "name": "python3"
  },
  "language_info": {
   "codemirror_mode": {
    "name": "ipython",
    "version": 3
   },
   "file_extension": ".py",
   "mimetype": "text/x-python",
   "name": "python",
   "nbconvert_exporter": "python",
   "pygments_lexer": "ipython3",
   "version": "3.8.8"
  }
 },
 "nbformat": 4,
 "nbformat_minor": 5
}
